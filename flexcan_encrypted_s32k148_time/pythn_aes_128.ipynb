{
  "nbformat": 4,
  "nbformat_minor": 0,
  "metadata": {
    "colab": {
      "provenance": []
    },
    "kernelspec": {
      "name": "python3",
      "display_name": "Python 3"
    },
    "language_info": {
      "name": "python"
    }
  },
  "cells": [
    {
      "cell_type": "code",
      "source": [
        "!pip install pycryptodome "
      ],
      "metadata": {
        "colab": {
          "base_uri": "https://localhost:8080/"
        },
        "id": "ROaG5TiPVdk4",
        "outputId": "793fdb0c-d703-4f92-eb1a-b696b5811c27"
      },
      "execution_count": 1,
      "outputs": [
        {
          "output_type": "stream",
          "name": "stdout",
          "text": [
            "Looking in indexes: https://pypi.org/simple, https://us-python.pkg.dev/colab-wheels/public/simple/\n",
            "Requirement already satisfied: pycryptodome in /usr/local/lib/python3.10/dist-packages (3.18.0)\n"
          ]
        }
      ]
    },
    {
      "cell_type": "code",
      "execution_count": 5,
      "metadata": {
        "colab": {
          "base_uri": "https://localhost:8080/"
        },
        "id": "ziqLKXhjVSvX",
        "outputId": "c3d73395-3977-412a-db82-e5e9e34e5948"
      },
      "outputs": [
        {
          "output_type": "stream",
          "name": "stdout",
          "text": [
            "\n",
            "ArrayLetters          : b'\\x00\\x01\\x02\\x03\\x04\\x05\\x06\\x07\\x08\\t\\n\\x0b\\x0c\\r\\x0e\\x0f'\n",
            "\n",
            "Byte Key Length       : 16\n",
            "69c4e0d86a7b0430d8cdb78070b4c55a\n"
          ]
        }
      ],
      "source": [
        "import json\n",
        "from Crypto.Cipher import AES\n",
        "\n",
        "AES_KEY = [0x00, 0x01, 0x02, 0x03, 0x04, 0x05, 0x06, 0x07, 0x08, 0x09, 0x0a, 0x0b, 0x0c, 0x0d, 0x0e, 0x0f]\n",
        "print(f'\\nArrayLetters          : {bytes(AES_KEY)}')\n",
        "print(f'\\nByte Key Length       : {len(AES_KEY)}')\n",
        "\n",
        "BLOCK_SIZE = 16\n",
        "pad = lambda s: s + (BLOCK_SIZE - len(s) % BLOCK_SIZE) * chr(BLOCK_SIZE - len(s) % BLOCK_SIZE)\n",
        "\n",
        "def doEncrypt():\n",
        "    strFilePath = \"./sample-encrypt-Python.txt\"\n",
        "\n",
        "    dataDict = {\n",
        "        \"o2\": 99,\n",
        "        \"pr\": 92,\n",
        "        \"datetime\": \"2022-05-22 09:33:07\",\n",
        "        \"sn\": \"7533967\"\n",
        "    }\n",
        "    cipher = AES.new(bytes(AES_KEY), AES.MODE_ECB)\n",
        "    prime_numbers = [0x00, 0x11, 0x22, 0x33, 0x44, 0x55, 0x66, 0x77, 0x88, 0x99, 0xaa, 0xbb, 0xcc, 0xdd, 0xee, 0xff]\n",
        "    byte_array = bytearray(prime_numbers)\n",
        "    cipheredData = cipher.encrypt(byte_array)\n",
        "    print( ''.join('{:02x}'.format(x) for x in cipheredData))\n",
        "    # with open(strFilePath, \"wb\") as f:\n",
        "    #     f.write(cipheredData)\n",
        "        \n",
        "doEncrypt()"
      ]
    }
  ]
}